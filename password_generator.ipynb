{
  "nbformat": 4,
  "nbformat_minor": 0,
  "metadata": {
    "colab": {
      "name": "password_generator.ipynb",
      "provenance": []
    },
    "kernelspec": {
      "name": "python3",
      "display_name": "Python 3"
    },
    "language_info": {
      "name": "python"
    }
  },
  "cells": [
    {
      "cell_type": "code",
      "metadata": {
        "id": "jXkS8wMKivDK"
      },
      "source": [
        "# importing the string lib function\n",
        "\n",
        "import string as s "
      ],
      "execution_count": 28,
      "outputs": []
    },
    {
      "cell_type": "code",
      "metadata": {
        "id": "E-ehIpPI3PKH"
      },
      "source": [
        "from random import *               #imports the random module   "
      ],
      "execution_count": 29,
      "outputs": []
    },
    {
      "cell_type": "code",
      "metadata": {
        "colab": {
          "base_uri": "https://localhost:8080/"
        },
        "id": "Z3xx_3Ve3UJU",
        "outputId": "92f931b9-6a5c-4262-f511-e6bb58258fd5"
      },
      "source": [
        "chc = s.ascii_letters+s.digits+s.punctuation                              #choice=chc\n",
        "password= \"\".join(choice(chc) for x in range (randint(7,18)))\n",
        "\n",
        "print(\"NEW PASSWORD is:\", password)"
      ],
      "execution_count": 30,
      "outputs": [
        {
          "output_type": "stream",
          "text": [
            "NEW PASSWORD is: +l5fw__.TB\n"
          ],
          "name": "stdout"
        }
      ]
    },
    {
      "cell_type": "code",
      "metadata": {
        "colab": {
          "base_uri": "https://localhost:8080/"
        },
        "id": "38gzh5Lk6aJK",
        "outputId": "1ad25123-6229-4af6-a053-540b282dc79d"
      },
      "source": [
        "chc = s.ascii_letters+s.digits+s.punctuation                              #choice=chc\n",
        "password= \"\".join(choice(chc) for x in range (randint(4,8)))\n",
        "\n",
        "print(\"NEW PASSWORD is:\", password)"
      ],
      "execution_count": 31,
      "outputs": [
        {
          "output_type": "stream",
          "text": [
            "NEW PASSWORD is: Di2ag:D\n"
          ],
          "name": "stdout"
        }
      ]
    },
    {
      "cell_type": "code",
      "metadata": {
        "colab": {
          "base_uri": "https://localhost:8080/"
        },
        "id": "t88J4uTm7C2X",
        "outputId": "3a33295e-31db-4270-970c-b80e9d7b7355"
      },
      "source": [
        "chc = s.ascii_letters+s.digits+s.punctuation                              #choice=chc\n",
        "password= \"\".join(choice(chc) for x in range (randint(5,16)))\n",
        "\n",
        "print(\"NEW PASSWORD is:\", password)"
      ],
      "execution_count": 32,
      "outputs": [
        {
          "output_type": "stream",
          "text": [
            "NEW PASSWORD is: (C^MKC\n"
          ],
          "name": "stdout"
        }
      ]
    },
    {
      "cell_type": "code",
      "metadata": {
        "colab": {
          "base_uri": "https://localhost:8080/"
        },
        "id": "XZcltxCY7ZWF",
        "outputId": "99084de8-8a7c-4ba5-8cd7-376009c9eae1"
      },
      "source": [
        "chc = s.ascii_letters+s.digits+s.punctuation                              #choice=chc\n",
        "password= \"\".join(choice(chc) for x in range (randint(1,16)))\n",
        "\n",
        "print(\"NEW PASSWORD is:\", password)"
      ],
      "execution_count": 33,
      "outputs": [
        {
          "output_type": "stream",
          "text": [
            "NEW PASSWORD is: mZ:<\\=*bJmp60d!\n"
          ],
          "name": "stdout"
        }
      ]
    }
  ]
}