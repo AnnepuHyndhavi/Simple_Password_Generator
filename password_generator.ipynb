{
  "nbformat": 4,
  "nbformat_minor": 0,
  "metadata": {
    "colab": {
      "name": "password_generator.ipynb",
      "provenance": []
    },
    "kernelspec": {
      "name": "python3",
      "display_name": "Python 3"
    },
    "language_info": {
      "name": "python"
    }
  },
  "cells": [
    {
      "cell_type": "code",
      "metadata": {
        "id": "jXkS8wMKivDK"
      },
      "source": [
        "# importing the string lib function\n",
        "\n",
        "import string as s "
      ],
      "execution_count": 1,
      "outputs": []
    },
    {
      "cell_type": "code",
      "metadata": {
        "id": "E-ehIpPI3PKH"
      },
      "source": [
        "from random import *               #imports the random module   "
      ],
      "execution_count": 2,
      "outputs": []
    },
    {
      "cell_type": "code",
      "metadata": {
        "colab": {
          "base_uri": "https://localhost:8080/"
        },
        "id": "Z3xx_3Ve3UJU",
        "outputId": "9e4a2657-e172-4bba-a06b-94defd06c4e3"
      },
      "source": [
        "chc = s.ascii_letters+s.digits+s.punctuation                              #choice=chc\n",
        "Password=\"\".join(choice(chc) for x in range (randint(6,12)))\n",
        "\n",
        "print(\"NEW PASSWORD is:\", password)"
      ],
      "execution_count": 17,
      "outputs": [
        {
          "output_type": "stream",
          "text": [
            "NEW PASSWORD is: c+h^qZ<$\n"
          ],
          "name": "stdout"
        }
      ]
    }
  ]
}